{
  "cells": [
    {
      "cell_type": "code",
      "execution_count": null,
      "metadata": {
        "id": "4j6X9dPIJ3l_"
      },
      "outputs": [],
      "source": [
        "print('this is a test')\n",
        "\n",
        "this_worked = 'i pushed this change'"
      ]
    }
  ],
  "metadata": {
    "language_info": {
      "name": "python"
    },
    "colab": {
      "provenance": []
    }
  },
  "nbformat": 4,
  "nbformat_minor": 0
}